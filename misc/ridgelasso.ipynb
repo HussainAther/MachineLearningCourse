{
 "cells": [
  {
   "cell_type": "markdown",
   "metadata": {},
   "source": [
    "# Ridge and Lasso Regression\n",
    "\n",
    "Syed Hussain Ather\n",
    "\n",
    "## Overview:\n",
    "+ Ridge Regression:\n",
    "+ + Performs L2 regularization, i.e. adds penalty equivalent to square of the magnitude of coefficients\n",
    "+ + Minimization objective = LS Obj + α * (sum of square of coefficients)\n",
    "+ Lasso Regression:\n",
    "+ + Performs L1 regularization, i.e. adds penalty equivalent to absolute value of the magnitude of coefficients\n",
    "+ + Minimization objective = LS Obj + α * (sum of absolute value of coefficients)\n",
    "\n",
    "\n"
   ]
  }
 ],
 "metadata": {
  "kernelspec": {
   "display_name": "Python 3",
   "language": "python",
   "name": "python3"
  },
  "language_info": {
   "codemirror_mode": {
    "name": "ipython",
    "version": 3
   },
   "file_extension": ".py",
   "mimetype": "text/x-python",
   "name": "python",
   "nbconvert_exporter": "python",
   "pygments_lexer": "ipython3",
   "version": "3.6.3"
  }
 },
 "nbformat": 4,
 "nbformat_minor": 2
}
