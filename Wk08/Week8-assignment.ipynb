{
 "cells": [
  {
   "cell_type": "markdown",
   "metadata": {},
   "source": [
    "Before you turn this problem in, make sure everything runs as expected. First, **restart the kernel** (in the menubar, select Kernel$\\rightarrow$Restart) and then **run all cells** (in the menubar, select Cell$\\rightarrow$Run All).\n",
    "\n",
    "Make sure you fill in any place that says `YOUR CODE HERE` or \"YOUR ANSWER HERE\"."
   ]
  },
  {
   "cell_type": "markdown",
   "metadata": {
    "deletable": false,
    "editable": false,
    "nbgrader": {
     "checksum": "d60e50e4cc9da06e03d8e077329cf24b",
     "grade": false,
     "grade_id": "cell-342b59512d5e4070",
     "locked": true,
     "schema_version": 1,
     "solution": false
    }
   },
   "source": [
    "# Week 8 - Classification\n",
    "\n",
    "This week's assignment will give you an opportunity to practice your classification skills with the scikit-learn package. You will have to apply several different classification methods and learn about their parameters.\n",
    "\n",
    "In sklearn the different options (called hyperparameters) for each classifier are specofied in the constructor when you initialize an object. Then, method __.fit(X, y)__ will run the training procedure where the classifier will learn from a set of samples and their features in __X__ and the corresponding class labels in __y__. Once the classifier model is trained you can use it for predicting the labels on previously unseen data with __.predict(X_new)__.\n",
    "\n",
    "You will need to use various classification metrics to __evaluate the performance of the trained model__. See http://scikit-learn.org/stable/modules/model_evaluation.html#classification-metrics for more details.\n",
    "\n",
    "A balanced F1 score combining precision and recall is a good default performance measure for binary classifiers. However, for instance as in the example with handwritten digits - the problem is multiclass - where we have 10 classes, one for each digit. In extending a binary metric to multiclass or multilabel problems, it could be treated as a collection of binary problems, one for each class. It is, therefore, necessary to average the evaluation results. There is then a number of ways to average binary metric calculations across the set of classes, each of which may be useful in some scenario. Where available, you should select among these using the average parameter. Read more about __\"micro\" and \"macro\" averaging of classification metrics__ in scikit-learn documentation.\n",
    "\n",
    "\"macro\" simply calculates the mean of the binary metrics, giving equal weight to each class. In problems where infrequent classes are nonetheless important, macro-averaging may be a means of highlighting their performance. On the other hand, the assumption that all classes are equally important is often untrue, such that macro-averaging will over-emphasize the typically low performance on an infrequent class.\n",
    "\n",
    "Thus if we make sure that each digit is represented by approximately equal number of samples, the performance of a classifier will be best evaluated using F1 with macro averaging across the classes. __StratifiedKfold__ class or a stratified train_test_split() can be used to make sure each class gets an approximately equal number of samples in a random split.\n",
    "\n",
    "The final, and probably, one of most important aspects of machine learning covered by this assignment - is to __avoid overfitting the models while they train__. Overfitting leads to a classifier that is showing excellent performance on the dataset used for training, while its performance on a previously unseen dataset could be average if not poor. __Cross-validation__ is an important technique to master. Fortunately, even the complex scenarios of cross-validation are already implemented and available for use in sklearn.\n",
    "\n",
    "Often we need to choose between several classification models based on their performance, for instance the classifiers initialized with different hyperparameters, we need to make sure there is no overfitting of hyperparameters. It means that the choise of hyperparameters can be optimal for the training dataset but may not be optimal in general. __GridSearchCV__ class simplifies the hyperparameter optimization procedure, but you need to make sure to put aside a subset of your data for the final validation. __train_test_split()__ is the best way to split the dataset in sklearn.\n",
    "\n",
    "There is a lot to explore in scikit learn documentation, take this opportunity, and ask your questions on Slack channel #week8 if something is unclear.\n",
    "\n",
    "Due to a heavy use of randomization techniques the exact performance mertics may not be achieved (sometimes even with the random seed set) therefore the tests in assert statements will  validate your solutions roughly. Don't be surprised to get slightly different results when you restart your calculations.\n",
    "\n",
    "\n",
    "## Assignments\n",
    "\n",
    "There are 5 graded assignments and total 6 points: the first task is worth 2 points, the other four are 1 point each. Additionally, there is an ungraded assignment that we highly encourage you to solve.\n"
   ]
  },
  {
   "cell_type": "code",
   "execution_count": 1,
   "metadata": {
    "deletable": false,
    "editable": false,
    "nbgrader": {
     "checksum": "15ae9877e707877833a66ff936b44d1c",
     "grade": false,
     "grade_id": "cell-8cac1e0680474a0d",
     "locked": true,
     "schema_version": 1,
     "solution": false
    }
   },
   "outputs": [
    {
     "name": "stderr",
     "output_type": "stream",
     "text": [
      "/Users/syedather/anaconda3/lib/python3.6/site-packages/matplotlib/__init__.py:962: UserWarning: Duplicate key in file \"/Users/syedather/.matplotlib/matplotlibrc\", line #2\n",
      "  (fname, cnt))\n"
     ]
    }
   ],
   "source": [
    "import matplotlib.pyplot as plt\n",
    "import numpy as np\n",
    "\n",
    "%matplotlib inline"
   ]
  },
  {
   "cell_type": "markdown",
   "metadata": {
    "deletable": false,
    "editable": false,
    "nbgrader": {
     "checksum": "1a43862c9797e2f5fdffa26f3efa0e49",
     "grade": false,
     "grade_id": "cell-b24ccf3f1f5aad98",
     "locked": true,
     "schema_version": 1,
     "solution": false
    }
   },
   "source": [
    "## Task #1  (2 points) - KNN\n",
    "\n",
    "Implement your own version of Nearest Neighbor classifier as a class MyKNN. The only hyperparameter to \\_\\_init\\_\\_(self, K) is K - the number of neighbors.\n",
    "\n",
    "Implement  .fit(X, y) method. There is no real training as the model simply memorizes all the data samples and their class labels.\n",
    "\n",
    "Implement .predict(X_new) method; this is where all the calculations are. You need to compare each sample in X_new to the memorized data and choose the K nearest neighbors using euclidean distance. Then you need to predict the label based on the most frequent label of the K neighbors and return an array of predicted labels. The problem could be binary or multiclass, it does not matter for the implementation, however you predict only one label for each sample, so it is not a multilabel classification problem.\n",
    "\n",
    "Do not worry about memory or speed optimization, we will not use MyKNN on large datasets."
   ]
  },
  {
   "cell_type": "code",
   "execution_count": null,
   "metadata": {
    "collapsed": true
   },
   "outputs": [],
   "source": []
  },
  {
   "cell_type": "code",
   "execution_count": 2,
   "metadata": {
    "collapsed": true,
    "deletable": false,
    "nbgrader": {
     "checksum": "3055364cb8db4ea8fb740decc477059c",
     "grade": false,
     "grade_id": "t1",
     "locked": false,
     "schema_version": 1,
     "solution": true
    }
   },
   "outputs": [],
   "source": [
    "import numpy as np\n",
    "from scipy.spatial.distance import euclidean\n",
    "import operator\n",
    "class MyKNN():\n",
    "    \"\"\"\n",
    "    K-Nearest Neighbor Classifier\n",
    "    \"\"\"\n",
    "    def __init__(self, K):\n",
    "        \"\"\"\n",
    "        Initialize the class MyKNN to use the Nearest Neighbor Classifier on K neighbors\n",
    "        \"\"\"\n",
    "        self.K = K\n",
    "    \n",
    "        \n",
    "    def fit(self, X, y):\n",
    "        \"\"\"\n",
    "        Memorize the data samples and labels\n",
    "        \"\"\"\n",
    "        self.X = X\n",
    "        self.y = y\n",
    "    \n",
    "    def neighbor(self, X, y, x, K):\n",
    "        \"\"\"\n",
    "        Return the most similar neighbor given a training set and test set\n",
    "        \"\"\" \n",
    "        d = [] \n",
    "        for a in range(len(X)): \n",
    "            d.append(euclidean(X[a], x))\n",
    "        i = np.argpartition(d, K)\n",
    "        l = y[i[:K]]\n",
    "        counts = np.bincount(l)\n",
    "        return(np.argmax(counts))\n",
    "    \n",
    "    def predict(self, X_new):\n",
    "        \"\"\"\n",
    "        Find the distance between two samples.\n",
    "        Run the training procedure where the classifier will learn from a set of samples\n",
    "        and their features in X and the corresponding class labels in y.\n",
    "        \"\"\"\n",
    "        output = []\n",
    "        for x in X_new:\n",
    "            output.append(self.neighbor(self.X, self.y, x, self.K))\n",
    "        return output\n",
    "        "
   ]
  },
  {
   "cell_type": "code",
   "execution_count": 3,
   "metadata": {
    "deletable": false,
    "editable": false,
    "nbgrader": {
     "checksum": "b733f2cd5dd7dfcbe7275223921ffc87",
     "grade": true,
     "grade_id": "t1-test",
     "locked": true,
     "points": 2,
     "schema_version": 1,
     "solution": false
    }
   },
   "outputs": [
    {
     "ename": "AssertionError",
     "evalue": "",
     "output_type": "error",
     "traceback": [
      "\u001b[0;31m---------------------------------------------------------------------------\u001b[0m",
      "\u001b[0;31mAssertionError\u001b[0m                            Traceback (most recent call last)",
      "\u001b[0;32m<ipython-input-3-b95210127df1>\u001b[0m in \u001b[0;36m<module>\u001b[0;34m()\u001b[0m\n\u001b[1;32m     16\u001b[0m \u001b[0mcls\u001b[0m\u001b[0;34m.\u001b[0m\u001b[0mfit\u001b[0m\u001b[0;34m(\u001b[0m\u001b[0mX\u001b[0m\u001b[0;34m,\u001b[0m \u001b[0my\u001b[0m\u001b[0;34m)\u001b[0m\u001b[0;34m\u001b[0m\u001b[0m\n\u001b[1;32m     17\u001b[0m \u001b[0mpred_y\u001b[0m \u001b[0;34m=\u001b[0m \u001b[0mcls\u001b[0m\u001b[0;34m.\u001b[0m\u001b[0mpredict\u001b[0m\u001b[0;34m(\u001b[0m\u001b[0mX_new1\u001b[0m\u001b[0;34m)\u001b[0m\u001b[0;34m\u001b[0m\u001b[0m\n\u001b[0;32m---> 18\u001b[0;31m \u001b[0;32massert\u001b[0m \u001b[0mround\u001b[0m\u001b[0;34m(\u001b[0m\u001b[0maccuracy_score\u001b[0m\u001b[0;34m(\u001b[0m\u001b[0my_new1\u001b[0m\u001b[0;34m,\u001b[0m \u001b[0mpred_y\u001b[0m\u001b[0;34m)\u001b[0m\u001b[0;34m,\u001b[0m \u001b[0;36m2\u001b[0m\u001b[0;34m)\u001b[0m \u001b[0;34m==\u001b[0m \u001b[0;36m0.67\u001b[0m\u001b[0;34m\u001b[0m\u001b[0m\n\u001b[0m\u001b[1;32m     19\u001b[0m \u001b[0;34m\u001b[0m\u001b[0m\n\u001b[1;32m     20\u001b[0m \u001b[0mX_new2\u001b[0m \u001b[0;34m=\u001b[0m \u001b[0mX\u001b[0m \u001b[0;34m*\u001b[0m \u001b[0;36m1.1\u001b[0m\u001b[0;34m\u001b[0m\u001b[0m\n",
      "\u001b[0;31mAssertionError\u001b[0m: "
     ]
    }
   ],
   "source": [
    "from sklearn.metrics import accuracy_score\n",
    "\n",
    "X = np.array([\n",
    "    [1.5, 2.5],\n",
    "    [3.5, 4.5],\n",
    "    [6.5, 6.5],\n",
    "    [4.5, 1.5],\n",
    "    [5.5, 3.5],\n",
    "    [7.5, 3.5]])\n",
    "\n",
    "y = np.array([0,0,1,1,2,2])\n",
    "\n",
    "X_new1 = X * 0.75\n",
    "y_new1 = y\n",
    "cls = MyKNN(4)\n",
    "cls.fit(X, y)\n",
    "pred_y = cls.predict(X_new1)\n",
    "assert round(accuracy_score(y_new1, pred_y), 2) == 0.67\n",
    "\n",
    "X_new2 = X * 1.1\n",
    "y_new2 = y\n",
    "for k in range(1, 7):\n",
    "    cls = MyKNN(k)\n",
    "    cls.fit(X, y)\n",
    "    pred_y = cls.predict(X_new2)\n",
    "    assert accuracy_score(y_new2, pred_y) == 1.0\n",
    "    assert cls.predict(np.array([[4.3, 3.6]]))[0] == 0\n",
    "    assert cls.predict(np.array([[4.2, 3.3]]))[0] == 2"
   ]
  },
  {
   "cell_type": "markdown",
   "metadata": {
    "deletable": false,
    "editable": false,
    "nbgrader": {
     "checksum": "61c8c985dfd456a25a817259bfe9a51a",
     "grade": false,
     "grade_id": "cell-825e2acaf3ee4b45",
     "locked": true,
     "schema_version": 1,
     "solution": false
    }
   },
   "source": [
    "## Task 2  (1 point) - Sampling\n",
    "\n",
    "Analyze stability of features in subsamples in train_test_split().\n",
    "Take the wines dataset (loaded below), and plot a distribution of \"quality\" feature. You will see that for wine quality <5 and >7 we only have a few samples; exclude these samples from wines dataset. Define __y__ as a vector of wine quality class labels. Define __X__ as the matrix of samples with the rest of the features (excluding quality).\n",
    "\n",
    "Run 1000 iterations of train_test_split() subsampling from __X__ and __y__ stratified by __y__ with 30% test size.\n",
    "\n",
    "Create __avg_alcohol_values_train__ list and append mean values of \"alcohol\" feature in the training subset on each iteration.\n",
    "\n",
    "Create __avg_alcohol_values_test__ list and append mean values of \"alcohol\" feature in the testing subset on each iteration.\n",
    "\n",
    "Analyze the mean and standard deviation of values in each of the lists. Plot histograms for visual aid.\n",
    "Think about why standard deviations of mean values from test and train samples differ and why the means are equal.\n",
    "\n",
    "The automatic tests will be checking X, y, and the avg_alcohol... lists."
   ]
  },
  {
   "cell_type": "code",
   "execution_count": null,
   "metadata": {
    "collapsed": true,
    "deletable": false,
    "editable": false,
    "nbgrader": {
     "checksum": "aeba7faf9d2b3fcf7d76a1911e8c9bbf",
     "grade": false,
     "grade_id": "cell-ba7496856ec4a685",
     "locked": true,
     "schema_version": 1,
     "solution": false
    }
   },
   "outputs": [],
   "source": [
    "import pandas as pd\n",
    "url = \"https://archive.ics.uci.edu/ml/machine-learning-databases/wine-quality/winequality-red.csv\"\n",
    "wines = pd.read_csv(url, sep=\";\")\n",
    "wines[\"quality\"].hist()\n",
    "wines.head()"
   ]
  },
  {
   "cell_type": "code",
   "execution_count": null,
   "metadata": {
    "collapsed": true,
    "deletable": false,
    "nbgrader": {
     "checksum": "c00dccbb65cf0cfffcd86ded25c8323f",
     "grade": false,
     "grade_id": "t2",
     "locked": false,
     "schema_version": 1,
     "solution": true
    }
   },
   "outputs": [],
   "source": [
    "from sklearn.model_selection import train_test_split\n",
    "import numpy as np\n",
    "import matplotlib.pyplot as plt\n",
    "\n",
    "wines = wines[(wines.quality <= 7) & (wines.quality >= 5)]\n",
    "y = wines[\"quality\"]\n",
    "X = wines.loc[:, wines.columns != \"quality\"]\n",
    "\n",
    "avg_alcohol_values_train = []\n",
    "avg_alcohol_values_test = []\n",
    "\n",
    "for i in range(1000):\n",
    "    X_train, X_test, y_train, y_test = train_test_split(X, y, test_size=.3, stratify=y)\n",
    "    avg_alcohol_values_train.append(np.mean(X_train[\"alcohol\"]))\n",
    "    avg_alcohol_values_test.append(np.mean(X_test[\"alcohol\"]))\n",
    "    \n",
    "plt.hist(avg_alcohol_values_train)\n",
    "plt.show()\n",
    "plt.hist(avg_alcohol_values_test)\n",
    "plt.show()"
   ]
  },
  {
   "cell_type": "code",
   "execution_count": null,
   "metadata": {
    "collapsed": true,
    "deletable": false,
    "editable": false,
    "nbgrader": {
     "checksum": "4b883448456eb3581daaea89ac595eea",
     "grade": true,
     "grade_id": "t2-test",
     "locked": true,
     "points": 1,
     "schema_version": 1,
     "solution": false
    }
   },
   "outputs": [],
   "source": [
    "assert y.shape == (1518,)\n",
    "assert X.shape == (1518, 11)\n",
    "\n",
    "assert 0.034 <= round(pd.Series(avg_alcohol_values_test).std(), 3) <= 0.037\n",
    "assert round(pd.Series(avg_alcohol_values_test).mean(), 1) == round(pd.Series(avg_alcohol_values_train).mean(), 1)\n",
    "\n",
    "assert 0.014 <= round(pd.Series(avg_alcohol_values_train).std(), 3) <= 0.016\n",
    "assert round(pd.Series(avg_alcohol_values_train).mean(), 1) == round(wines['alcohol'].mean(), 1)"
   ]
  },
  {
   "cell_type": "markdown",
   "metadata": {
    "deletable": false,
    "editable": false,
    "nbgrader": {
     "checksum": "5560d561a5f36a659ef364ebb63f6726",
     "grade": false,
     "grade_id": "cell-6e46df97f5e597d8",
     "locked": true,
     "schema_version": 1,
     "solution": false
    }
   },
   "source": [
    "## Task 3 (1 point) - Multinomial NB\n",
    "\n",
    "Use RepeatedStratifiedKfold cross-validation to evaluate performance of a Multinomial Naive Bayes on the wine dataset predicting wine quality. As in the previous task exclude wines with quality that is not 5,6 or 7; and prepare sample-feature matrix X and vector with class labels y accordingly.\n",
    "\n",
    "Use the following classesfrom sklearn:  RepeatedStratifiedKFold, MultinomialNB and cross_val_score function.\n",
    "\n",
    "Initialize Repeated 5-fold cross validation object (5 splits) with 1000 repetitions.\n",
    "Initialize Multinomial NB classifier.\n",
    "Calculate cross validation scores for the NB classifier and the kfold cross validation object that we created (use cv parameter to pass a custom cross validation object to cros_val_score function). For scoring use F1 score with macro averageing 'f1_macro'. If you want to speed things up set n_jobs=-1  which would use the power of multiple CPU cores on your computer for the calculation.\n",
    "\n",
    "Store the results of cross validation scores in \"scores\" variable. We will check it in assert tests, as well as X and y will be tested.\n",
    "\n",
    "For visual aid plot a distribution of scores across cross validation runs. Now you have a robust estimate of Multinomial NB classifier performance in predicting wine quality."
   ]
  },
  {
   "cell_type": "code",
   "execution_count": null,
   "metadata": {
    "collapsed": true,
    "deletable": false,
    "editable": false,
    "nbgrader": {
     "checksum": "7ad3fb1c62caac05fc258f474d9b8d04",
     "grade": false,
     "grade_id": "cell-f150c53545a8aa82",
     "locked": true,
     "schema_version": 1,
     "solution": false
    }
   },
   "outputs": [],
   "source": [
    "import pandas as pd\n",
    "url = \"https://archive.ics.uci.edu/ml/machine-learning-databases/wine-quality/winequality-red.csv\"\n",
    "wines = pd.read_csv(url, sep=\";\")"
   ]
  },
  {
   "cell_type": "code",
   "execution_count": null,
   "metadata": {
    "collapsed": true,
    "deletable": false,
    "nbgrader": {
     "checksum": "bfe37efa32c2bab16b0bb20c4c6791c9",
     "grade": false,
     "grade_id": "cell-762846b2ba96f881",
     "locked": false,
     "schema_version": 1,
     "solution": true
    }
   },
   "outputs": [],
   "source": [
    "from sklearn.model_selection import RepeatedStratifiedKFold\n",
    "from sklearn.naive_bayes import MultinomialNB\n",
    "from sklearn.model_selection import cross_val_score\n",
    "from sklearn.metrics import f1_score\n",
    "\n",
    "wines = wines[(wines.quality <= 7) & (wines.quality >= 5)]\n",
    "y = wines[\"quality\"]\n",
    "X = wines.loc[:, wines.columns != \"quality\"]\n",
    "\n",
    "for i in range(1000):\n",
    "    rskf = RepeatedStratifiedKFold(n_splits=5, n_repeats=1000)\n",
    "    \n",
    "clf = MultinomialNB()\n",
    "\n",
    "scores = cross_val_score(clf, X, y, cv=5, scoring='f1_macro')\n"
   ]
  },
  {
   "cell_type": "code",
   "execution_count": null,
   "metadata": {
    "collapsed": true,
    "deletable": false,
    "editable": false,
    "nbgrader": {
     "checksum": "589995734ac5e8c080c37119bccf94b6",
     "grade": true,
     "grade_id": "cell-666c6eb3182f9908",
     "locked": true,
     "points": 1,
     "schema_version": 1,
     "solution": false
    }
   },
   "outputs": [],
   "source": [
    "assert y.shape == (1518,)\n",
    "assert X.shape == (1518, 11)\n",
    "assert  .4 < pd.Series(scores).mean() < .5"
   ]
  },
  {
   "cell_type": "markdown",
   "metadata": {
    "deletable": false,
    "editable": false,
    "nbgrader": {
     "checksum": "0d0ae26be5fdad3ed37a7e685bd9a671",
     "grade": false,
     "grade_id": "cell-3534396446b0c46b",
     "locked": true,
     "schema_version": 1,
     "solution": false
    }
   },
   "source": [
    "## Task 4 (1 point) - Logistic Regression\n",
    "\n",
    "Use RepeatedStratifiedKfold cross-validation to evaluate performance of a Logistic Regression on the wine dataset predicting wine quality. \n",
    "\n",
    "This time let us turn it into a binary classification problem and prepare a vector with class labels y that will only have 1 (for high-quality wine where quality >= 7) and 0 for the rest of wine samples.\n",
    "Initialize sample-feature matrix X (don't forget to exclude quality column).\n",
    "\n",
    "Use the following classesfrom sklearn:  RepeatedStratifiedKFold, LogisticRegression and cross_val_score function.\n",
    "\n",
    "As in the previous example: \n",
    "\n",
    "Initialize Repeated 5-fold cross validation object (5 splits) with 1000 repetitions.\n",
    "Initialize Multinomial NB classifier.\n",
    "Calculate cross validation scores for the NB classifier and the kfold cross validation object that we created (use cv parameter to pass a custom cross validation object to cros_val_score function).\n",
    "\n",
    "However, for scoring let us use accuracy this time, and since it is a binary classification problem no averageing across classes is required. If you want to speed things up set n_jobs=-1  which would use the power of multiple CPU cores on your computer for the calculation.\n",
    "\n",
    "Store the results of cross validation scores in \"scores\" variable. We will check it in assert tests, as well as X and y will be tested.\n",
    "\n",
    "For visual aid plot a distribution of scores across cross validation runs."
   ]
  },
  {
   "cell_type": "code",
   "execution_count": 6,
   "metadata": {
    "collapsed": true,
    "deletable": false,
    "editable": false,
    "nbgrader": {
     "checksum": "829c31f4a67944462d7d9a1baea8b995",
     "grade": false,
     "grade_id": "cell-69bbd166ac4a50a5",
     "locked": true,
     "schema_version": 1,
     "solution": false
    }
   },
   "outputs": [],
   "source": [
    "import pandas as pd\n",
    "url = \"https://archive.ics.uci.edu/ml/machine-learning-databases/wine-quality/winequality-red.csv\"\n",
    "wines = pd.read_csv(url, sep=\";\")"
   ]
  },
  {
   "cell_type": "code",
   "execution_count": 7,
   "metadata": {
    "deletable": false,
    "nbgrader": {
     "checksum": "368dcd76be58e9af7c2b673198df4be5",
     "grade": false,
     "grade_id": "cell-d707c326d2bdb279",
     "locked": false,
     "schema_version": 1,
     "solution": true
    }
   },
   "outputs": [
    {
     "data": {
      "image/png": "[encoded data removed]",
      "text/plain": [
       "<matplotlib.figure.Figure at 0x1087ff160>"
      ]
     },
     "metadata": {},
     "output_type": "display_data"
    }
   ],
   "source": [
    "from sklearn.model_selection import RepeatedStratifiedKFold\n",
    "from sklearn.model_selection import cross_val_score\n",
    "from sklearn.metrics import f1_score\n",
    "from sklearn.linear_model import LogisticRegression\n",
    "import matplotlib.pyplot as plt\n",
    "\n",
    "y = np.where(wines[\"quality\"]>=7, 1, 0)\n",
    "X = wines.loc[:, wines.columns != \"quality\"]\n",
    "\n",
    "rskf = RepeatedStratifiedKFold(n_splits=5, n_repeats=1000)\n",
    "\n",
    "lr = LogisticRegression()\n",
    "\n",
    "scores = cross_val_score(lr, X, y, cv=rskf, scoring='accuracy')\n",
    "\n",
    "plt.hist(scores)\n",
    "plt.show()"
   ]
  },
  {
   "cell_type": "code",
   "execution_count": 8,
   "metadata": {
    "deletable": false,
    "editable": false,
    "nbgrader": {
     "checksum": "db70f851842a179e269727c9d897189e",
     "grade": true,
     "grade_id": "cell-42b2feb509ff1a9d",
     "locked": true,
     "points": 1,
     "schema_version": 1,
     "solution": false
    }
   },
   "outputs": [],
   "source": [
    "assert y.shape == (1599,)\n",
    "assert X.shape == (1599, 11)\n",
    "assert  pd.Series(scores).mean() > 0.86"
   ]
  },
  {
   "cell_type": "markdown",
   "metadata": {
    "deletable": false,
    "editable": false,
    "nbgrader": {
     "checksum": "0dc0774f1a40ade484032213fd8dd434",
     "grade": false,
     "grade_id": "cell-e6886c0f1a409bf0",
     "locked": true,
     "schema_version": 1,
     "solution": false
    }
   },
   "source": [
    "## Task 5 (1 point) - Random Forest\n",
    "\n",
    "Let us use the digits dataset and apply Random Forest to predict the digit given a low resolution handwritten image.\n",
    "\n",
    "Use the following classes from sklearn:  RandomForestClassifier\n",
    "\n",
    "You will need to split data into training and 30% testing. Use training to fit RandomForestClassifier. And use testing subset to test the f1 score with macro averaging: first, predict the labels for test set using .predict(), then compare predicted to actual labels and calculate the score. Store this score in \"score\" variable, we will test it.\n",
    "\n",
    "Now let us compare the results to a robust estimate of performance using 5-fold cross validation (5 splits) with 100 repetitions (more repetitions will take time). Calculate 'f1_macro'  scores with cross validation for the whole dataset of X and y (not the training or testing subsets). Store the results of cross validation scores in \"scores\" variable (it will be tested). Let us now take the mean of \"scores\" and compare it to \"score\" that we calculated previously. What do you see?\n",
    "For visual aid plot distributions of scores across cross validation runs."
   ]
  },
  {
   "cell_type": "code",
   "execution_count": 9,
   "metadata": {
    "collapsed": true,
    "deletable": false,
    "editable": false,
    "nbgrader": {
     "checksum": "cb35028af3d86e0921d48774c2038544",
     "grade": false,
     "grade_id": "cell-f01ff137236eed5f",
     "locked": true,
     "schema_version": 1,
     "solution": false
    }
   },
   "outputs": [],
   "source": [
    "import sklearn.datasets\n",
    "\n",
    "digits = sklearn.datasets.load_digits()\n",
    "\n",
    "# X - how digits are handwritten\n",
    "X = digits['data']\n",
    "\n",
    "# y - what these digits actually are\n",
    "y = digits['target']"
   ]
  },
  {
   "cell_type": "code",
   "execution_count": 10,
   "metadata": {
    "deletable": false,
    "nbgrader": {
     "checksum": "76b3aa740f34f592e69998775ea50d1f",
     "grade": false,
     "grade_id": "cell-9b650ceb67fbab9b",
     "locked": false,
     "schema_version": 1,
     "solution": true
    }
   },
   "outputs": [
    {
     "name": "stdout",
     "output_type": "stream",
     "text": [
      "Score 0.944444444444\n",
      "Mean of cross-validated score 0.95954900678\n"
     ]
    },
    {
     "data": {
      "image/png": "[encoded data removed]",
      "text/plain": [
       "<matplotlib.figure.Figure at 0x103355eb8>"
      ]
     },
     "metadata": {},
     "output_type": "display_data"
    }
   ],
   "source": [
    "from sklearn.ensemble import RandomForestClassifier\n",
    "from sklearn.model_selection import RepeatedStratifiedKFold\n",
    "from sklearn.model_selection import cross_val_score\n",
    "from sklearn.metrics import accuracy_score\n",
    "from sklearn.model_selection import train_test_split\n",
    "from sklearn.linear_model import LogisticRegression\n",
    "import numpy as np\n",
    "import matplotlib.pyplot as plt\n",
    "        \n",
    "X_train, X_test, y_train, y_test = train_test_split(X, y, test_size=0.3, stratify=y, random_state=123456)\n",
    "\n",
    "rf = RandomForestClassifier()\n",
    "\n",
    "rf.fit(X_train, y_train)\n",
    "predictions = rf.predict(X_test)\n",
    "\n",
    "score = accuracy_score(y_test, predictions)\n",
    "print(\"Accuracy Score \" + str(score))\n",
    "\n",
    "rskf = RepeatedStratifiedKFold(n_splits=5, n_repeats=100)\n",
    "\n",
    "lr = LogisticRegression()\n",
    "\n",
    "scores = cross_val_score(lr, X, y, cv=rskf, scoring='f1_macro')\n",
    "\n",
    "print(\"Mean of cross-validated score \" + str(np.mean(scores)))\n",
    "\n",
    "plt.hist(scores)\n",
    "plt.show()\n",
    "# Our cross-validated score is higher than the accuracy score. \n",
    "# From the plot of scores, we see a mean cross-validated score near the upper end of the \n",
    "# distribution. The entire distribution takes a normal Gaussian curve centered around approximately 0.96."
   ]
  },
  {
   "cell_type": "code",
   "execution_count": 11,
   "metadata": {
    "deletable": false,
    "editable": false,
    "nbgrader": {
     "checksum": "4c3121bb1463952c522585b84b9853a8",
     "grade": true,
     "grade_id": "cell-64444146993f782e",
     "locked": true,
     "points": 1,
     "schema_version": 1,
     "solution": false
    }
   },
   "outputs": [],
   "source": [
    "assert X.shape == (1797, 64)\n",
    "assert y.shape == (1797, )\n",
    "assert score > 0.91\n",
    "assert np.percentile(scores, 5) < score < np.percentile(scores, 95)"
   ]
  },
  {
   "cell_type": "markdown",
   "metadata": {
    "deletable": false,
    "editable": false,
    "nbgrader": {
     "checksum": "ecaffc8e4c2ebf10b1488c06755b4c9b",
     "grade": false,
     "grade_id": "cell-39b7df583ce9ce92",
     "locked": true,
     "schema_version": 1,
     "solution": false
    }
   },
   "source": [
    "## Task 6 (not graded) - Grid SearchCV\n",
    "\n",
    "Apply KNN classifier to digits dataset. You need to find the optimal parameters for KNN.\n",
    "Number of neighbors is not the only parameter that can be changed. As you can see from the first exercise the distance metric is an important parameter. Also, when choosing the class label by voting between K nearest neigbors different weights could be assigned to samples. A popular choice would be to assign higher weights to neighbors that are closer.\n",
    "\n",
    "Split the dataset into train_test and validation and only use the train_test portion for grid search CV.\n",
    "Use Grid Search cross validation to find the optimal combination of parameters listed below:\n",
    "\n",
    "n_neighbors:  3, 5, 7, 9, 11, 13, 15\n",
    "weights: uniform, distance\n",
    "metric: euclidean, manhattan, chebyshev\n",
    "\n",
    "In order to define what is an optimal solution you need to choose a score. The choice is up to you, but remember that digits dataset involves multiple classes. There is no assert test.\n",
    "\n",
    "You will need grid.best_params_ and grid.best_estimator_\n",
    "\n",
    "Use the best performing classifier grid.best_estimator_ to predict values for the validation portion of your dataset. Print a confusion matrix (use confusion_matrix function) and analyze which digits are easily confused with the other ones by the classifier.\n",
    "\n",
    "If you have questions about the solution mark them clearly and we will answer in okpy grading system."
   ]
  },
  {
   "cell_type": "code",
   "execution_count": null,
   "metadata": {
    "collapsed": true,
    "deletable": false,
    "editable": false,
    "nbgrader": {
     "checksum": "1c73eec3a43b99f9c3ed4ab1553b19f3",
     "grade": false,
     "grade_id": "cell-ccb9196a5de0a293",
     "locked": true,
     "schema_version": 1,
     "solution": false
    }
   },
   "outputs": [],
   "source": [
    "import sklearn.datasets\n",
    "\n",
    "digits = sklearn.datasets.load_digits()\n",
    "\n",
    "# X - how digits are handwritten\n",
    "X = digits['data']\n",
    "\n",
    "# y - what these digits actually are\n",
    "y = digits['target']"
   ]
  },
  {
   "cell_type": "code",
   "execution_count": null,
   "metadata": {
    "collapsed": true,
    "deletable": false,
    "nbgrader": {
     "checksum": "29650af10f742a016012324a3e8cffa5",
     "grade": true,
     "grade_id": "cell-22e9ce2d35f7301f",
     "locked": false,
     "points": 0,
     "schema_version": 1,
     "solution": true
    }
   },
   "outputs": [],
   "source": [
    "# YOUR CODE HERE\n",
    "pass"
   ]
  }
 ],
 "metadata": {
  "anaconda-cloud": {},
  "kernelspec": {
   "display_name": "Python 3",
   "language": "python",
   "name": "python3"
  },
  "language_info": {
   "codemirror_mode": {
    "name": "ipython",
    "version": 3
   },
   "file_extension": ".py",
   "mimetype": "text/x-python",
   "name": "python",
   "nbconvert_exporter": "python",
   "pygments_lexer": "ipython3",
   "version": "3.6.3"
  }
 },
 "nbformat": 4,
 "nbformat_minor": 1
}
