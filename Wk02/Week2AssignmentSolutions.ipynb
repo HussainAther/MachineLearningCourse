class Rectangle:
    def __init__(self, height, width):
        """Initialize a new rectangle object."""
        self.height = height
        self.width = width

    def get_size(self):
        """Return the size of the rectangle."""
        # YOUR CODE HERE
        raise NotImplementedError()
