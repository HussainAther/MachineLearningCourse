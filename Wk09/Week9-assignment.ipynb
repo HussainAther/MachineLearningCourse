{
 "cells": [
  {
   "cell_type": "markdown",
   "metadata": {},
   "source": [
    "Before you turn this problem in, make sure everything runs as expected. First, **restart the kernel** (in the menubar, select Kernel$\\rightarrow$Restart) and then **run all cells** (in the menubar, select Cell$\\rightarrow$Run All).\n",
    "\n",
    "Make sure you fill in any place that says `YOUR CODE HERE` or \"YOUR ANSWER HERE\"."
   ]
  },
  {
   "cell_type": "markdown",
   "metadata": {
    "deletable": false,
    "editable": false,
    "nbgrader": {
     "checksum": "679ec5fff62aec27bfc93d9dee6ec2f8",
     "grade": false,
     "grade_id": "cell-342b59512d5e4070",
     "locked": true,
     "schema_version": 1,
     "solution": false
    }
   },
   "source": [
    "# Week 9 - Clustering\n",
    "\n",
    "For this assignment, you will use the *digits* dataset.\n",
    "\n",
    "The components of this assignment are:\n",
    "1. Load the digits dataset into a Pandas data frame.\n",
    "1. Preprocess the digits dataset.\n",
    "1. Examine how many clusters you may need using the elbow method.\n",
    "1. Cluster the digits dataset using K-means and evaluate using adjusted rand index.\n",
    "1. Optional: See how the ARI changes as you alter the K-means parameters.\n",
    "1. Optional: Use clustering as a classifier and compare to Random Forest."
   ]
  },
  {
   "cell_type": "code",
   "execution_count": 1,
   "metadata": {
    "deletable": false,
    "editable": false,
    "nbgrader": {
     "checksum": "d061c6263c45130af24b65591356d8a6",
     "grade": false,
     "grade_id": "cell-8cac1e0680474a0d",
     "locked": true,
     "schema_version": 1,
     "solution": false
    }
   },
   "outputs": [
    {
     "name": "stderr",
     "output_type": "stream",
     "text": [
      "/Users/syedather/anaconda3/lib/python3.6/site-packages/matplotlib/__init__.py:962: UserWarning: Duplicate key in file \"/Users/syedather/.matplotlib/matplotlibrc\", line #2\n",
      "  (fname, cnt))\n"
     ]
    }
   ],
   "source": [
    "import numpy as np\n",
    "import pandas as pd\n",
    "\n",
    "import matplotlib.pyplot as plt\n",
    "%matplotlib inline"
   ]
  },
  {
   "cell_type": "markdown",
   "metadata": {
    "deletable": false,
    "editable": false,
    "nbgrader": {
     "checksum": "b731bd91c8e181e5b52f4a24cb030dc6",
     "grade": false,
     "grade_id": "cell-b24ccf3f1f5aad98",
     "locked": true,
     "schema_version": 1,
     "solution": false
    }
   },
   "source": [
    "## Task 1. Load the digits dataset into a Pandas data frame.\n",
    "\n",
    "The digits dataset represents images of handwritten digits. Each image is a 32x32 bitmap. To create a numerical dataset representing the images, each image was divided into non-overlapping blocks of 4x4, and the number of set pixels in each block is counted.\n",
    "\n",
    "Thus, each image is represented by an 8x8 matrix of integers in the range 0-16. Each sample in the dataset therefore has 64 attributes. There are a total of 1,797 samples in the dataset we will use.\n",
    "\n",
    "Therefore, the digits dataset should be loaded into a Pandas dataframe with 1,797 rows and 64 columns.\n",
    "\n",
    "In this task, you will load the digits dataset (http://archive.ics.uci.edu/ml/machine-learning-databases/optdigits/optdigits.tes) into a Pandas dataframe. Note that the final column in this dataset is the correct label (an integer in the range 0-9).\n",
    "\n",
    "Load the attributes into a Pandas dataframe named **digits**. This dataframe should *not* include the final column, as we only want to load the features here.\n",
    "\n",
    "Instead, save the final column into a Pandas series named **labels**."
   ]
  },
  {
   "cell_type": "code",
   "execution_count": 2,
   "metadata": {
    "collapsed": true,
    "deletable": false,
    "nbgrader": {
     "checksum": "3055364cb8db4ea8fb740decc477059c",
     "grade": false,
     "grade_id": "t1",
     "locked": false,
     "schema_version": 1,
     "solution": true
    }
   },
   "outputs": [],
   "source": [
    "import pandas as pd\n",
    "url = \"http://archive.ics.uci.edu/ml/machine-learning-databases/optdigits/optdigits.tes\"\n",
    "df = pd.read_csv(url, header=-1)\n",
    "digits = df.iloc[:, :-1]\n",
    "labels = df.iloc[:,-1]\n"
   ]
  },
  {
   "cell_type": "code",
   "execution_count": 3,
   "metadata": {
    "collapsed": true,
    "deletable": false,
    "editable": false,
    "nbgrader": {
     "checksum": "44b97fb15c1012c624085936f2482b84",
     "grade": true,
     "grade_id": "t1-test",
     "locked": true,
     "points": 1,
     "schema_version": 1,
     "solution": false
    }
   },
   "outputs": [],
   "source": [
    "assert digits.shape == (1797, 64)\n",
    "assert labels.shape == (1797,)\n",
    "assert digits.sum().sum() == 561718\n",
    "assert all((0 <= labels) & (labels <= 9))"
   ]
  },
  {
   "cell_type": "markdown",
   "metadata": {
    "deletable": false,
    "editable": false,
    "nbgrader": {
     "checksum": "5ba154c8bdb6b18cb676526f3e3897f0",
     "grade": false,
     "grade_id": "cell-825e2acaf3ee4b45",
     "locked": true,
     "schema_version": 1,
     "solution": false
    }
   },
   "source": [
    "## Task 2. Preprocess the digits dataset.\n",
    "\n",
    "Standardize the data so that each column has a mean of (or very close to) zero and a standard deviation of (or very close to) 1. Make sure the resulting data is a Pandas dataframe (if it is not, convert it to one using pd.DataFrame).\n",
    "\n",
    "Note that some of the columns are all zeros across all samples. In this case, you can leave the column as is. In theory you could remove those columns as they do not contribute any information to clustering, but in our case they do not affect the results so we will keep them. For this reason, our assertions makes sure that all the columns have a standard variation of one **except** those columns that are all zeros."
   ]
  },
  {
   "cell_type": "code",
   "execution_count": 4,
   "metadata": {
    "deletable": false,
    "nbgrader": {
     "checksum": "c00dccbb65cf0cfffcd86ded25c8323f",
     "grade": false,
     "grade_id": "t2",
     "locked": false,
     "schema_version": 1,
     "solution": true
    }
   },
   "outputs": [],
   "source": [
    "import numpy as np\n",
    "digits = ((digits - digits.mean()) / digits.std(ddof=0)).fillna(0)"
   ]
  },
  {
   "cell_type": "code",
   "execution_count": 5,
   "metadata": {
    "collapsed": true,
    "deletable": false,
    "editable": false,
    "nbgrader": {
     "checksum": "fe5b2ada4ffcc749300c3e1ff6079916",
     "grade": true,
     "grade_id": "t2-test",
     "locked": true,
     "points": 1,
     "schema_version": 1,
     "solution": false
    }
   },
   "outputs": [],
   "source": [
    "assert digits.shape == (1797, 64)\n",
    "assert all(np.isclose(digits.mean(), 0))\n",
    "assert all(np.isclose(digits.std(ddof=0), 1) == (digits.sum() != 0))\n",
    "assert np.isclose(digits.sum().sum(), 0)"
   ]
  },
  {
   "cell_type": "markdown",
   "metadata": {
    "deletable": false,
    "editable": false,
    "nbgrader": {
     "checksum": "0296c0f3a46da74b403ff7934525769e",
     "grade": false,
     "grade_id": "cell-6e46df97f5e597d8",
     "locked": true,
     "schema_version": 1,
     "solution": false
    }
   },
   "source": [
    "## Task 3. Examine how many clusters you may need using the elbow method.\n",
    "\n",
    "The K-means algorithm requires us to specify the number of clusters. One way to assess this is using the elbow method.\n",
    "\n",
    "Use the elbow method and see if there is a clear number of clusters that make sense in the digits dataset. Note that this is just for exploratory purposes; we know the number of clusters should be 10, and that is what we will use in the future components of this exercise.\n",
    "\n",
    "The elbow method consists of visualizing the sum of squared distances between samples and their closest cluster center. This is done by creating a scatter plot where the number of clusters used in K-means is provided on the X axis and the sum of squared distances is provided on the Y axis. If there is a clear inflection point, that can be an indicator of the ideal number of clusters.\n",
    "\n",
    "Run the K-means algorithm on the digits dataset 25 times. In the first run set the number of clusters to 1, in the second to 2, and so on through 25. For each run, collect the sum of squared distances. Save these into a list named **ssds**.\n",
    "\n",
    "Create an elbow plot and examine whether you can see a clear inflection point.\n",
    "\n",
    "**Note:**\n",
    "In order for our assertions to work, make sure you use the default parameters for KMeans, with the exception of random_state, which you should set to 126, i.e. to run with one cluster:\n",
    "```python\n",
    "KMeans(n_clusters=1, random_state=126)\n",
    "```\n",
    "\n",
    "and so forth."
   ]
  },
  {
   "cell_type": "code",
   "execution_count": 6,
   "metadata": {
    "deletable": false,
    "nbgrader": {
     "checksum": "bfe37efa32c2bab16b0bb20c4c6791c9",
     "grade": false,
     "grade_id": "cell-762846b2ba96f881",
     "locked": false,
     "schema_version": 1,
     "solution": true
    }
   },
   "outputs": [
    {
     "data": {
      "image/png": "[encoded data removed]",
      "text/plain": [
       "<matplotlib.figure.Figure at 0x113af82e8>"
      ]
     },
     "metadata": {},
     "output_type": "display_data"
    }
   ],
   "source": [
    "import matplotlib.pyplot as plt\n",
    "from sklearn.cluster import KMeans\n",
    "\n",
    "def plot_elbow(dataset, max_clusters):\n",
    "    \"\"\"Plot elbow curve for k-means.\"\"\"\n",
    "    inertias = []\n",
    "    for i in range(1, max_clusters + 1):\n",
    "        kmeans = KMeans(n_clusters=i, random_state=126)\n",
    "        kmeans.fit(dataset)\n",
    "        inertias.append(kmeans.inertia_)\n",
    "\n",
    "    plt.plot(range(1, max_clusters + 1), inertias)\n",
    "    plt.title(\"Elbow Plot\")\n",
    "    plt.xlabel(\"K\")\n",
    "    plt.ylabel(\"SSD\")\n",
    "    plt.show()\n",
    "    return inertias\n",
    "\n",
    "ssds = plot_elbow(digits, 25)\n",
    "\n",
    "# There is no clear inflection point.\n",
    "    "
   ]
  },
  {
   "cell_type": "code",
   "execution_count": 7,
   "metadata": {
    "collapsed": true,
    "deletable": false,
    "editable": false,
    "nbgrader": {
     "checksum": "539a1295c7325997beb3fbeead638ff1",
     "grade": true,
     "grade_id": "cell-666c6eb3182f9908",
     "locked": true,
     "points": 1,
     "schema_version": 1,
     "solution": false
    }
   },
   "outputs": [],
   "source": [
    "assert len(ssds) == 25\n",
    "assert np.isclose(np.mean(ssds), 68158.8514102)"
   ]
  },
  {
   "cell_type": "markdown",
   "metadata": {
    "deletable": false,
    "editable": false,
    "nbgrader": {
     "checksum": "08f6bbd2a383eb446b215dd94886fa28",
     "grade": false,
     "grade_id": "cell-3534396446b0c46b",
     "locked": true,
     "schema_version": 1,
     "solution": false
    }
   },
   "source": [
    "## Task 4. Cluster the digits dataset using K-means and evaluate using adjusted rand index.\n",
    "\n",
    "Go ahead and cluster the dataset using K-means. \n",
    "\n",
    "Set the number of clusters to ten and and the random_state to 126:\n",
    "```python\n",
    "KMeans(n_clusters=10, random_state=126)\n",
    "```\n",
    "\n",
    "Evaluate your clusters using the ARI. You can import the ARI function from sklearn.metrics:\n",
    "\n",
    "```python\n",
    "from sklearn.metrics import adjusted_rand_score\n",
    "```\n",
    "\n",
    "Save the ARI to the variable *score*. Save the KMeans model to the variable *model*."
   ]
  },
  {
   "cell_type": "code",
   "execution_count": 8,
   "metadata": {
    "deletable": false,
    "nbgrader": {
     "checksum": "368dcd76be58e9af7c2b673198df4be5",
     "grade": false,
     "grade_id": "cell-d707c326d2bdb279",
     "locked": false,
     "schema_version": 1,
     "solution": true
    }
   },
   "outputs": [],
   "source": [
    "from sklearn.metrics import adjusted_rand_score\n",
    "\n",
    "model = KMeans(n_clusters=10, random_state=126)\n",
    "labels_true = model.fit(digits)\n",
    "labels_pred = model.predict(digits)\n",
    "score = adjusted_rand_score(labels, labels_pred)"
   ]
  },
  {
   "cell_type": "code",
   "execution_count": 9,
   "metadata": {
    "collapsed": true,
    "deletable": false,
    "editable": false,
    "nbgrader": {
     "checksum": "aed6fb06d82fbd128b854aee165b6fd5",
     "grade": true,
     "grade_id": "cell-42b2feb509ff1a9d",
     "locked": true,
     "points": 1,
     "schema_version": 1,
     "solution": false
    }
   },
   "outputs": [],
   "source": [
    "assert isinstance(score, float)\n",
    "assert np.isclose(score, 0.477717062354)\n",
    "assert len(model.labels_) == 1797\n",
    "assert sum(model.labels_) == 5881"
   ]
  },
  {
   "cell_type": "markdown",
   "metadata": {
    "deletable": false,
    "editable": false,
    "nbgrader": {
     "checksum": "53514315cc6d88eb403c4384521b24ad",
     "grade": false,
     "grade_id": "cell-c4e12f5df445e7cc",
     "locked": true,
     "schema_version": 1,
     "solution": false
    }
   },
   "source": [
    "## Task 5. How does the ARI change when you alter the K-means parameters?\n",
    "### Optional and ungraded.\n",
    "\n",
    "Explore the effect on the ARI of changing the KMeans parameters, such as: init, n_init, max_iter.\n",
    "\n",
    "Compare to other evaluations, such as: homogeneity score, completeness score, and the silhouette coefficient."
   ]
  },
  {
   "cell_type": "code",
   "execution_count": 14,
   "metadata": {},
   "outputs": [
    {
     "name": "stdout",
     "output_type": "stream",
     "text": [
      "adjusted rand score 0.477717062354\n",
      "homogeneity score 0.607849284657\n",
      "adjusted rand score 0.461637949354\n",
      "homogeneity score 0.598426950081\n",
      "adjusted rand score 0.461637949354\n",
      "homogeneity score 0.598426950081\n"
     ]
    }
   ],
   "source": [
    "from sklearn.metrics import homogeneity_score\n",
    "from sklearn.metrics import silhouette_score\n",
    "\n",
    "model = KMeans(n_clusters=10, random_state=126)\n",
    "labels_true = model.fit(digits)\n",
    "labels_pred = model.predict(digits)\n",
    "print(\"adjusted rand score \" + str(adjusted_rand_score(labels, labels_pred)))\n",
    "print(\"homogeneity score \" + str(homogeneity_score(labels, labels_pred)))\n",
    "\n",
    "\n",
    "model = KMeans(n_clusters=10, init=\"random\", n_init=20, max_iter=300, random_state=126)\n",
    "labels_true = model.fit(digits)\n",
    "labels_pred = model.predict(digits)\n",
    "print(\"adjusted rand score \" + str(adjusted_rand_score(labels, labels_pred)))\n",
    "print(\"homogeneity score \" + str(homogeneity_score(labels, labels_pred)))\n",
    "\n",
    "model = KMeans(n_clusters=10, init=\"random\", n_init=5, max_iter=100, random_state=126)\n",
    "labels_true = model.fit(digits)\n",
    "labels_pred = model.predict(digits)\n",
    "print(\"adjusted rand score \" + str(adjusted_rand_score(labels, labels_pred)))\n",
    "print(\"homogeneity score \" + str(homogeneity_score(labels, labels_pred)))\n"
   ]
  },
  {
   "cell_type": "markdown",
   "metadata": {
    "deletable": false,
    "editable": false,
    "nbgrader": {
     "checksum": "c9b094548256fef95f6ce2a6526f7973",
     "grade": false,
     "grade_id": "cell-c4e12f5df447cc",
     "locked": true,
     "schema_version": 1,
     "solution": false
    }
   },
   "source": [
    "## Task 6. Clustering as a classifier?\n",
    "### Optional and ungraded.\n",
    "\n",
    "Can you use clustering as a classifier for the digits dataset? How does it compare to some of the classifiers you used last week, such as random forest?"
   ]
  },
  {
   "cell_type": "code",
   "execution_count": 15,
   "metadata": {},
   "outputs": [
    {
     "name": "stdout",
     "output_type": "stream",
     "text": [
      "n_digits: 10, \t n_samples 1797, \t n_features 64\n",
      "__________________________________________________________________________________\n",
      "init\t\ttime\tinertia\thomo\tcompl\tv-meas\tARI\tAMI\tsilhouette\n",
      "k-means++\t0.39s\t69432\t0.602\t0.650\t0.625\t0.465\t0.598\t0.146\n",
      "random   \t0.29s\t69694\t0.669\t0.710\t0.689\t0.553\t0.666\t0.147\n",
      "PCA-based\t0.04s\t70804\t0.671\t0.698\t0.684\t0.561\t0.668\t0.118\n",
      "__________________________________________________________________________________\n"
     ]
    },
    {
     "data": {
      "image/png": "[encoded data removed]",
      "text/plain": [
       "<matplotlib.figure.Figure at 0x112458c50>"
      ]
     },
     "metadata": {},
     "output_type": "display_data"
    }
   ],
   "source": [
    "### Copy-pasted from the tutorial ###\n",
    "\n",
    "from time import time\n",
    "import numpy as np\n",
    "import matplotlib.pyplot as plt\n",
    "\n",
    "from sklearn import metrics\n",
    "from sklearn.cluster import KMeans\n",
    "from sklearn.datasets import load_digits\n",
    "from sklearn.decomposition import PCA\n",
    "from sklearn.preprocessing import scale\n",
    "\n",
    "digits = load_digits()\n",
    "data = scale(digits.data)\n",
    "\n",
    "n_samples, n_features = data.shape\n",
    "n_digits = len(np.unique(digits.target))\n",
    "labels = digits.target\n",
    "\n",
    "sample_size = 300\n",
    "\n",
    "print(\"n_digits: %d, \\t n_samples %d, \\t n_features %d\"\n",
    "      % (n_digits, n_samples, n_features))\n",
    "\n",
    "\n",
    "print(82 * '_')\n",
    "print('init\\t\\ttime\\tinertia\\thomo\\tcompl\\tv-meas\\tARI\\tAMI\\tsilhouette')\n",
    "\n",
    "\n",
    "def bench_k_means(estimator, name, data):\n",
    "    t0 = time()\n",
    "    estimator.fit(data)\n",
    "    print('%-9s\\t%.2fs\\t%i\\t%.3f\\t%.3f\\t%.3f\\t%.3f\\t%.3f\\t%.3f'\n",
    "          % (name, (time() - t0), estimator.inertia_,\n",
    "             metrics.homogeneity_score(labels, estimator.labels_),\n",
    "             metrics.completeness_score(labels, estimator.labels_),\n",
    "             metrics.v_measure_score(labels, estimator.labels_),\n",
    "             metrics.adjusted_rand_score(labels, estimator.labels_),\n",
    "             metrics.adjusted_mutual_info_score(labels,  estimator.labels_),\n",
    "             metrics.silhouette_score(data, estimator.labels_,\n",
    "                                      metric='euclidean',\n",
    "                                      sample_size=sample_size)))\n",
    "\n",
    "bench_k_means(KMeans(init='k-means++', n_clusters=n_digits, n_init=10),\n",
    "              name=\"k-means++\", data=data)\n",
    "\n",
    "bench_k_means(KMeans(init='random', n_clusters=n_digits, n_init=10),\n",
    "              name=\"random\", data=data)\n",
    "\n",
    "# in this case the seeding of the centers is deterministic, hence we run the\n",
    "# kmeans algorithm only once with n_init=1\n",
    "pca = PCA(n_components=n_digits).fit(data)\n",
    "bench_k_means(KMeans(init=pca.components_, n_clusters=n_digits, n_init=1),\n",
    "              name=\"PCA-based\",\n",
    "              data=data)\n",
    "print(82 * '_')\n",
    "\n",
    "# #############################################################################\n",
    "# Visualize the results on PCA-reduced data\n",
    "\n",
    "reduced_data = PCA(n_components=2).fit_transform(data)\n",
    "kmeans = KMeans(init='k-means++', n_clusters=n_digits, n_init=10)\n",
    "kmeans.fit(reduced_data)\n",
    "\n",
    "# Step size of the mesh. Decrease to increase the quality of the VQ.\n",
    "h = .02     # point in the mesh [x_min, x_max]x[y_min, y_max].\n",
    "\n",
    "# Plot the decision boundary. For that, we will assign a color to each\n",
    "x_min, x_max = reduced_data[:, 0].min() - 1, reduced_data[:, 0].max() + 1\n",
    "y_min, y_max = reduced_data[:, 1].min() - 1, reduced_data[:, 1].max() + 1\n",
    "xx, yy = np.meshgrid(np.arange(x_min, x_max, h), np.arange(y_min, y_max, h))\n",
    "\n",
    "# Obtain labels for each point in mesh. Use last trained model.\n",
    "Z = kmeans.predict(np.c_[xx.ravel(), yy.ravel()])\n",
    "\n",
    "# Put the result into a color plot\n",
    "Z = Z.reshape(xx.shape)\n",
    "plt.figure(1)\n",
    "plt.clf()\n",
    "plt.imshow(Z, interpolation='nearest',\n",
    "           extent=(xx.min(), xx.max(), yy.min(), yy.max()),\n",
    "           cmap=plt.cm.Paired,\n",
    "           aspect='auto', origin='lower')\n",
    "\n",
    "plt.plot(reduced_data[:, 0], reduced_data[:, 1], 'k.', markersize=2)\n",
    "# Plot the centroids as a white X\n",
    "centroids = kmeans.cluster_centers_\n",
    "plt.scatter(centroids[:, 0], centroids[:, 1],\n",
    "            marker='x', s=169, linewidths=3,\n",
    "            color='w', zorder=10)\n",
    "plt.title('K-means clustering on the digits dataset (PCA-reduced data)\\n'\n",
    "          'Centroids are marked with white cross')\n",
    "plt.xlim(x_min, x_max)\n",
    "plt.ylim(y_min, y_max)\n",
    "plt.xticks(())\n",
    "plt.yticks(())\n",
    "plt.show()\n",
    "\n",
    "\"\"\"\n",
    "Clearly defined decision boundaries. Seems to perform better than the classifiers used in the previous \n",
    "assignment. \n",
    "\"\"\""
   ]
  }
 ],
 "metadata": {
  "anaconda-cloud": {},
  "kernelspec": {
   "display_name": "Python 3",
   "language": "python",
   "name": "python3"
  },
  "language_info": {
   "codemirror_mode": {
    "name": "ipython",
    "version": 3
   },
   "file_extension": ".py",
   "mimetype": "text/x-python",
   "name": "python",
   "nbconvert_exporter": "python",
   "pygments_lexer": "ipython3",
   "version": "3.6.3"
  }
 },
 "nbformat": 4,
 "nbformat_minor": 1
}
